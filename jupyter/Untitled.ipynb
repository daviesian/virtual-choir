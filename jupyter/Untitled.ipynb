{
 "cells": [
  {
   "cell_type": "code",
   "execution_count": 1,
   "metadata": {},
   "outputs": [],
   "source": [
    "%matplotlib widget\n",
    "import matplotlib.pyplot as plt\n",
    "import numpy as np\n",
    "plt.rcParams['figure.figsize'] = [60, 10]\n",
    "plt.rcParams['figure.dpi'] = 80\n"
   ]
  },
  {
   "cell_type": "code",
   "execution_count": 15,
   "metadata": {},
   "outputs": [
    {
     "data": {
      "application/vnd.jupyter.widget-view+json": {
       "model_id": "3500c20debdc4841a44a2080bfbd8e55",
       "version_major": 2,
       "version_minor": 0
      },
      "text/plain": [
       "Canvas(toolbar=Toolbar(toolitems=[('Home', 'Reset original view', 'home', 'home'), ('Back', 'Back to previous …"
      ]
     },
     "metadata": {},
     "output_type": "display_data"
    }
   ],
   "source": [
    "fig = plt.figure()\n",
    "itemId = \"68738262-abbc-4e8b-a285-640f6252a866\" #White \"94732d22-35f1-4709-b51a-5e52653383e4\"#Worked \"7ad81097-b167-4653-8643-dafa1bc9fb1d\"#Worked \"0d1e6fbf-04f6-488a-a7bd-3964aef250da\" #ShouldBe155 \"cdbef7bb-ab31-4671-8983-fe4e6e6269a7\" #ShouldBe120 \"9ce1941c-246d-4439-900d-c2f6eada2269\"\n",
    "with open(f'../.items/{itemId}.impulse', 'r') as f:\n",
    "    plt.plot(np.linspace(0,1,44100), [float(x) for x in f])"
   ]
  },
  {
   "cell_type": "code",
   "execution_count": null,
   "metadata": {},
   "outputs": [],
   "source": []
  }
 ],
 "metadata": {
  "kernelspec": {
   "display_name": "Python 3",
   "language": "python",
   "name": "python3"
  },
  "language_info": {
   "codemirror_mode": {
    "name": "ipython",
    "version": 3
   },
   "file_extension": ".py",
   "mimetype": "text/x-python",
   "name": "python",
   "nbconvert_exporter": "python",
   "pygments_lexer": "ipython3",
   "version": "3.8.0"
  }
 },
 "nbformat": 4,
 "nbformat_minor": 4
}
